{
 "cells": [
  {
   "cell_type": "code",
   "execution_count": 5,
   "metadata": {},
   "outputs": [],
   "source": [
    "import pandas as pd\n",
    "from datasets import load_dataset, Dataset"
   ]
  },
  {
   "cell_type": "code",
   "execution_count": 4,
   "metadata": {},
   "outputs": [
    {
     "data": {
      "text/html": [
       "<div>\n",
       "<style scoped>\n",
       "    .dataframe tbody tr th:only-of-type {\n",
       "        vertical-align: middle;\n",
       "    }\n",
       "\n",
       "    .dataframe tbody tr th {\n",
       "        vertical-align: top;\n",
       "    }\n",
       "\n",
       "    .dataframe thead th {\n",
       "        text-align: right;\n",
       "    }\n",
       "</style>\n",
       "<table border=\"1\" class=\"dataframe\">\n",
       "  <thead>\n",
       "    <tr style=\"text-align: right;\">\n",
       "      <th></th>\n",
       "      <th>id</th>\n",
       "      <th>title</th>\n",
       "      <th>office</th>\n",
       "      <th>publish</th>\n",
       "      <th>expiry</th>\n",
       "      <th>type</th>\n",
       "      <th>status</th>\n",
       "      <th>url</th>\n",
       "      <th>download_link_word</th>\n",
       "      <th>download_link_html</th>\n",
       "      <th>download_link_pdf</th>\n",
       "      <th>content</th>\n",
       "    </tr>\n",
       "  </thead>\n",
       "  <tbody>\n",
       "    <tr>\n",
       "      <th>0</th>\n",
       "      <td>MmM5MDlmZGQ2NzhiZjE3OTAxNjc4YmY1OWRhODAwMmQ%3D</td>\n",
       "      <td>中华人民共和国宪法修正案（2018年）</td>\n",
       "      <td>全国人民代表大会</td>\n",
       "      <td>2018-03-11 00:00:00</td>\n",
       "      <td>2018-03-11 00:00:00</td>\n",
       "      <td>宪法</td>\n",
       "      <td>有效</td>\n",
       "      <td>https://flk.npc.gov.cn/detail2.html?MmM5MDlmZG...</td>\n",
       "      <td>https://wb.flk.npc.gov.cn/xffl/WORD/0193ce7784...</td>\n",
       "      <td></td>\n",
       "      <td>https://wb.flk.npc.gov.cn/xffl/PDF/c1c2617518b...</td>\n",
       "      <td>中华人民共和国宪法修正案\\n\\n&gt; （2018年3月11日第十三届全国人民代表大会\\\\n&gt; ...</td>\n",
       "    </tr>\n",
       "    <tr>\n",
       "      <th>1</th>\n",
       "      <td>MmM5MDlmZGQ2NzhiZjE3OTAxNjc4YmY1YTQ4MzAwNGI%3D</td>\n",
       "      <td>中华人民共和国宪法（2018年修正文本）</td>\n",
       "      <td>全国人民代表大会</td>\n",
       "      <td>2018-03-11 00:00:00</td>\n",
       "      <td>2018-03-11 00:00:00</td>\n",
       "      <td>宪法</td>\n",
       "      <td>有效</td>\n",
       "      <td>https://flk.npc.gov.cn/detail2.html?MmM5MDlmZG...</td>\n",
       "      <td>https://wb.flk.npc.gov.cn/xffl/WORD/9f314b7b2f...</td>\n",
       "      <td></td>\n",
       "      <td>https://wb.flk.npc.gov.cn/xffl/PDF/7fc27013b8f...</td>\n",
       "      <td>中华人民共和国宪法\\n\\n&gt; 　　（1982年12月4日第五届全国人民代表大会第五次会议通过...</td>\n",
       "    </tr>\n",
       "    <tr>\n",
       "      <th>2</th>\n",
       "      <td>MmM5MDlmZGQ2NzhiZjE3OTAxNjc4YmY1OWQ0MjAwMjM%3D</td>\n",
       "      <td>中华人民共和国宪法修正案（2004年）</td>\n",
       "      <td>全国人民代表大会</td>\n",
       "      <td>2004-03-14 00:00:00</td>\n",
       "      <td>2004-03-14 00:00:00</td>\n",
       "      <td>宪法</td>\n",
       "      <td>有效</td>\n",
       "      <td>https://flk.npc.gov.cn/detail2.html?MmM5MDlmZG...</td>\n",
       "      <td>https://wb.flk.npc.gov.cn/xffl/WORD/dcf90fd833...</td>\n",
       "      <td></td>\n",
       "      <td>https://wb.flk.npc.gov.cn/xffl/PDF/3e1330c3f81...</td>\n",
       "      <td>中华人民共和国宪法修正案\\n\\n&gt; 2004年3月14日第十届全国人民代表大会\\\\n&gt; 第二...</td>\n",
       "    </tr>\n",
       "    <tr>\n",
       "      <th>3</th>\n",
       "      <td>MmM5MDlmZGQ2NzhiZjE3OTAxNjc4YmY1OWM5ZTAwMTk%3D</td>\n",
       "      <td>中华人民共和国宪法修正案（1999年）</td>\n",
       "      <td>全国人民代表大会</td>\n",
       "      <td>1999-03-15 00:00:00</td>\n",
       "      <td>1999-03-15 00:00:00</td>\n",
       "      <td>宪法</td>\n",
       "      <td>有效</td>\n",
       "      <td>https://flk.npc.gov.cn/detail2.html?MmM5MDlmZG...</td>\n",
       "      <td>https://wb.flk.npc.gov.cn/xffl/WORD/fdcad53c93...</td>\n",
       "      <td></td>\n",
       "      <td>https://wb.flk.npc.gov.cn/xffl/PDF/1e02bf5f3d6...</td>\n",
       "      <td>中华人民共和国宪法修正案\\n\\n&gt; 1999年3月15日第九届全国人民代表大会\\\\n&gt; 第二...</td>\n",
       "    </tr>\n",
       "    <tr>\n",
       "      <th>4</th>\n",
       "      <td>MmM5MDlmZGQ2NzhiZjE3OTAxNjc4YmY1OWMwZDAwMGY%3D</td>\n",
       "      <td>中华人民共和国宪法修正案（1993年）</td>\n",
       "      <td>全国人民代表大会</td>\n",
       "      <td>1993-03-29 00:00:00</td>\n",
       "      <td>1993-03-29 00:00:00</td>\n",
       "      <td>宪法</td>\n",
       "      <td>有效</td>\n",
       "      <td>https://flk.npc.gov.cn/detail2.html?MmM5MDlmZG...</td>\n",
       "      <td>https://wb.flk.npc.gov.cn/xffl/WORD/8703c7d947...</td>\n",
       "      <td></td>\n",
       "      <td>https://wb.flk.npc.gov.cn/xffl/PDF/1750c0b3584...</td>\n",
       "      <td>中华人民共和国宪法修正案\\n\\n&gt; 1993年3月29日第八届全国人民代表大会\\\\n&gt; 第一...</td>\n",
       "    </tr>\n",
       "  </tbody>\n",
       "</table>\n",
       "</div>"
      ],
      "text/plain": [
       "                                               id                 title  \\\n",
       "0  MmM5MDlmZGQ2NzhiZjE3OTAxNjc4YmY1OWRhODAwMmQ%3D   中华人民共和国宪法修正案（2018年）   \n",
       "1  MmM5MDlmZGQ2NzhiZjE3OTAxNjc4YmY1YTQ4MzAwNGI%3D  中华人民共和国宪法（2018年修正文本）   \n",
       "2  MmM5MDlmZGQ2NzhiZjE3OTAxNjc4YmY1OWQ0MjAwMjM%3D   中华人民共和国宪法修正案（2004年）   \n",
       "3  MmM5MDlmZGQ2NzhiZjE3OTAxNjc4YmY1OWM5ZTAwMTk%3D   中华人民共和国宪法修正案（1999年）   \n",
       "4  MmM5MDlmZGQ2NzhiZjE3OTAxNjc4YmY1OWMwZDAwMGY%3D   中华人民共和国宪法修正案（1993年）   \n",
       "\n",
       "     office              publish               expiry type status  \\\n",
       "0  全国人民代表大会  2018-03-11 00:00:00  2018-03-11 00:00:00   宪法     有效   \n",
       "1  全国人民代表大会  2018-03-11 00:00:00  2018-03-11 00:00:00   宪法     有效   \n",
       "2  全国人民代表大会  2004-03-14 00:00:00  2004-03-14 00:00:00   宪法     有效   \n",
       "3  全国人民代表大会  1999-03-15 00:00:00  1999-03-15 00:00:00   宪法     有效   \n",
       "4  全国人民代表大会  1993-03-29 00:00:00  1993-03-29 00:00:00   宪法     有效   \n",
       "\n",
       "                                                 url  \\\n",
       "0  https://flk.npc.gov.cn/detail2.html?MmM5MDlmZG...   \n",
       "1  https://flk.npc.gov.cn/detail2.html?MmM5MDlmZG...   \n",
       "2  https://flk.npc.gov.cn/detail2.html?MmM5MDlmZG...   \n",
       "3  https://flk.npc.gov.cn/detail2.html?MmM5MDlmZG...   \n",
       "4  https://flk.npc.gov.cn/detail2.html?MmM5MDlmZG...   \n",
       "\n",
       "                                  download_link_word download_link_html  \\\n",
       "0  https://wb.flk.npc.gov.cn/xffl/WORD/0193ce7784...                      \n",
       "1  https://wb.flk.npc.gov.cn/xffl/WORD/9f314b7b2f...                      \n",
       "2  https://wb.flk.npc.gov.cn/xffl/WORD/dcf90fd833...                      \n",
       "3  https://wb.flk.npc.gov.cn/xffl/WORD/fdcad53c93...                      \n",
       "4  https://wb.flk.npc.gov.cn/xffl/WORD/8703c7d947...                      \n",
       "\n",
       "                                   download_link_pdf  \\\n",
       "0  https://wb.flk.npc.gov.cn/xffl/PDF/c1c2617518b...   \n",
       "1  https://wb.flk.npc.gov.cn/xffl/PDF/7fc27013b8f...   \n",
       "2  https://wb.flk.npc.gov.cn/xffl/PDF/3e1330c3f81...   \n",
       "3  https://wb.flk.npc.gov.cn/xffl/PDF/1e02bf5f3d6...   \n",
       "4  https://wb.flk.npc.gov.cn/xffl/PDF/1750c0b3584...   \n",
       "\n",
       "                                             content  \n",
       "0  中华人民共和国宪法修正案\\n\\n> （2018年3月11日第十三届全国人民代表大会\\\\n> ...  \n",
       "1  中华人民共和国宪法\\n\\n> 　　（1982年12月4日第五届全国人民代表大会第五次会议通过...  \n",
       "2  中华人民共和国宪法修正案\\n\\n> 2004年3月14日第十届全国人民代表大会\\\\n> 第二...  \n",
       "3  中华人民共和国宪法修正案\\n\\n> 1999年3月15日第九届全国人民代表大会\\\\n> 第二...  \n",
       "4  中华人民共和国宪法修正案\\n\\n> 1993年3月29日第八届全国人民代表大会\\\\n> 第一...  "
      ]
     },
     "execution_count": 4,
     "metadata": {},
     "output_type": "execute_result"
    }
   ],
   "source": [
    "df = pd.read_json('laws.json')\n",
    "df.head()"
   ]
  },
  {
   "cell_type": "code",
   "execution_count": 6,
   "metadata": {},
   "outputs": [
    {
     "data": {
      "text/plain": [
       "Dataset({\n",
       "    features: ['id', 'title', 'office', 'publish', 'expiry', 'type', 'status', 'url', 'download_link_word', 'download_link_html', 'download_link_pdf', 'content'],\n",
       "    num_rows: 22552\n",
       "})"
      ]
     },
     "execution_count": 6,
     "metadata": {},
     "output_type": "execute_result"
    }
   ],
   "source": [
    "dataset = Dataset.from_pandas(df, )\n",
    "dataset"
   ]
  },
  {
   "cell_type": "code",
   "execution_count": 7,
   "metadata": {},
   "outputs": [
    {
     "name": "stderr",
     "output_type": "stream",
     "text": [
      "Creating parquet from Arrow format: 100%|██████████| 23/23 [00:01<00:00, 20.73ba/s]\n",
      "Pushing dataset shards to the dataset hub: 100%|██████████| 1/1 [12:19<00:00, 739.78s/it]\n",
      "Downloading metadata: 100%|██████████| 28.0/28.0 [00:00<00:00, 81.9kB/s]\n"
     ]
    }
   ],
   "source": [
    "dataset.push_to_hub('twang2218/chinese-law-and-regulations')"
   ]
  },
  {
   "cell_type": "code",
   "execution_count": null,
   "metadata": {},
   "outputs": [],
   "source": []
  }
 ],
 "metadata": {
  "kernelspec": {
   "display_name": "law",
   "language": "python",
   "name": "python3"
  },
  "language_info": {
   "codemirror_mode": {
    "name": "ipython",
    "version": 3
   },
   "file_extension": ".py",
   "mimetype": "text/x-python",
   "name": "python",
   "nbconvert_exporter": "python",
   "pygments_lexer": "ipython3",
   "version": "3.10.12"
  },
  "orig_nbformat": 4
 },
 "nbformat": 4,
 "nbformat_minor": 2
}
