{
 "cells": [
  {
   "cell_type": "code",
   "execution_count": 6,
   "metadata": {},
   "outputs": [],
   "source": [
    "import requests\n",
    "import json\n",
    "import tempfile\n",
    "import pypandoc\n",
    "from loguru import logger"
   ]
  },
  {
   "cell_type": "code",
   "execution_count": 25,
   "metadata": {},
   "outputs": [],
   "source": [
    "def get_markdown(law):\n",
    "    logger.info(f\"正在获取 {law['title']} 的内容，并以 markdown 格式返回\")\n",
    "    links = law['links']\n",
    "    if 'WORD' in links:\n",
    "        format = 'docx'\n",
    "        link = links['WORD']\n",
    "        to = 'markdown'\n",
    "    elif 'HTML' in links:\n",
    "        format = 'html'\n",
    "        link = links['HTML']\n",
    "        to = 'mediawiki'\n",
    "    elif 'PDF' in links:\n",
    "        format = 'pdf'\n",
    "        link = links['PDF']\n",
    "        to = 'markdown'\n",
    "\n",
    "    with tempfile.NamedTemporaryFile() as f:\n",
    "        response = requests.get(link, timeout=10)\n",
    "        f.write(response.content)\n",
    "        f.flush()\n",
    "        output = pypandoc.convert_file(f.name, to=to, format=format, extra_args=['--extract-media', '.'])\n",
    "        return output\n"
   ]
  },
  {
   "cell_type": "code",
   "execution_count": 26,
   "metadata": {},
   "outputs": [
    {
     "name": "stderr",
     "output_type": "stream",
     "text": [
      "\u001b[32m2023-08-31 06:32:54.098\u001b[0m | \u001b[1mINFO    \u001b[0m | \u001b[36m__main__\u001b[0m:\u001b[36mget_markdown\u001b[0m:\u001b[36m2\u001b[0m - \u001b[1m正在获取 中华人民共和国反外国制裁法 的内容，并以 markdown 格式返回\u001b[0m\n"
     ]
    },
    {
     "name": "stdout",
     "output_type": "stream",
     "text": [
      "<div class=\"law-content\">\n",
      "\n",
      " \n",
      "\n",
      " \n",
      "\n",
      "<span style=\"font-family:宋体;font-size:21pt;\">中华人民共和国反外国制裁法</span>\n",
      "\n",
      " \n",
      "\n",
      "<span style=\"font-size:16pt;\">（2021年6月10日第十三届全国人民代表大会常务委员会第二十九次会议通过）</span>\n",
      "\n",
      " \n",
      "\n",
      "<span style=\"font-family:黑体;font-size:16pt;\">第一条</span> <span style=\"font-size:16pt;\">为了维护国家主权、安全、发展利益，保护我国公民、组织的合法权益，根据宪法，制定本法。</span>\n",
      "\n",
      "<span style=\"font-family:黑体;font-size:16pt;\">第二条</span> <span style=\"font-size:16pt;\">中华人民共和国坚持独立自主的和平外交政策，坚持互相尊重主权和领土完整、互不侵犯、互不干涉内政、平等互利、和平共处的五项原则，维护以联合国为核心的国际体系和以国际法为基础的国际秩序，发展同世界各国的友好合作，推动构建人类命运共同体。</span>\n",
      "\n",
      "<span style=\"font-family:黑体;font-size:16pt;\">第三条</span> <span style=\"font-size:16pt;\">中华人民共和国反对霸权主义和强权政治，反对任何国家以任何借口、任何方式干涉中国内政。</span>\n",
      "\n",
      "<span style=\"font-size:16pt;\">外国国家违反国际法和国际关系基本准则，以各种借口或者依据其本国法律对我国进行遏制、打压，对我国公民、组织采取歧视性限制措施，干涉我国内政的，我国有权采取相应反制措施。</span>\n",
      "\n",
      "<span style=\"font-family:黑体;font-size:16pt;\">第四条</span> <span style=\"font-size:16pt;\">国务院有关部门可以决定将直接或者间接参与制定、决定、实施本法第三条规定的歧视性限制措施的个人、组织列入反制清单。</span>\n",
      "\n",
      "<span style=\"font-family:黑体;font-size:16pt;\">第五条</span> <span style=\"font-size:16pt;\">除根据本法第四条规定列入反制清单的个人、组织以外，国务院有关部门还可以决定对下列个人、组织采取反制措施：</span>\n",
      "\n",
      "<span style=\"font-size:16pt;\">（一）列入反制清单个人的配偶和直系亲属；</span>\n",
      "\n",
      "<span style=\"font-size:16pt;\">（二）列入反制清单组织的高级管理人员或者实际控制人；</span>\n",
      "\n",
      "<span style=\"font-size:16pt;\">（三）由列入反制清单个人担任高级管理人员的组织；</span>\n",
      "\n",
      "<span style=\"font-size:16pt;\">（四）由列入反制清单个人和组织实际控制或者参与设立、运营的组织。</span>\n",
      "\n",
      "<span style=\"font-family:黑体;font-size:16pt;\">第六条</span> <span style=\"font-size:16pt;\">国务院有关部门可以按照各自职责和任务分工，对本法第四条、第五条规定的个人、组织，根据实际情况决定采取下列一种或者几种措施：</span>\n",
      "\n",
      "<span style=\"font-size:16pt;\">（一）不予签发签证、不准入境、注销签证或者驱逐出境；</span>\n",
      "\n",
      "<span style=\"font-size:16pt;\">（二）查封、扣押、冻结在我国境内的动产、不动产和其他各类财产；</span>\n",
      "\n",
      "<span style=\"font-size:16pt;\">（三）禁止或者限制我国境内的组织、个人与其进行有关交易、合作等活动；</span>\n",
      "\n",
      "<span style=\"font-size:16pt;\">（四）其他必要措施。</span>\n",
      "\n",
      "<span style=\"font-family:黑体;font-size:16pt;\">第七条</span> <span style=\"font-size:16pt;\">国务院有关部门依据本法第四条至第六条规定作出的决定为最终决定。</span>\n",
      "\n",
      "<span style=\"font-family:黑体;font-size:16pt;\">第八条</span> <span style=\"font-size:16pt;\">采取反制措施所依据的情形发生变化的，国务院有关部门可以暂停、变更或者取消有关反制措施。</span>\n",
      "\n",
      "<span style=\"font-family:黑体;font-size:16pt;\">第九条</span> <span style=\"font-size:16pt;\">反制清单和反制措施的确定、暂停、变更或者取消，由外交部或者国务院其他有关部门发布命令予以公布。</span>\n",
      "\n",
      "<span style=\"font-family:黑体;font-size:16pt;\">第十条</span> <span style=\"font-size:16pt;\">国家设立反外国制裁工作协调机制，负责统筹协调相关工作。</span>\n",
      "\n",
      "<span style=\"font-size:16pt;\">国务院有关部门应当加强协同配合和信息共享，按照各自职责和任务分工确定和实施有关反制措施。</span>\n",
      "\n",
      "<span style=\"font-family:黑体;font-size:16pt;\">第十一条</span> <span style=\"font-size:16pt;\">我国境内的组织和个人应当执行国务院有关部门采取的反制措施。</span>\n",
      "\n",
      "<span style=\"font-size:16pt;\">对违反前款规定的组织和个人，国务院有关部门依法予以处理，限制或者禁止其从事相关活动。</span>\n",
      "\n",
      "<span style=\"font-family:黑体;font-size:16pt;\">第十二条</span> <span style=\"font-size:16pt;\">任何组织和个人均不得执行或者协助执行外国国家对我国公民、组织采取的歧视性限制措施。</span>\n",
      "\n",
      "<span style=\"font-size:16pt;\">组织和个人违反前款规定，侵害我国公民、组织合法权益的，我国公民、组织可以依法向人民法院提起诉讼，要求其停止侵害、赔偿损失。</span>\n",
      "\n",
      "<span style=\"font-family:黑体;font-size:16pt;\">第十三条</span> <span style=\"font-size:16pt;\">对于危害我国主权、安全、发展利益的行为，除本法规定外，有关法律、行政法规、部门规章可以规定采取其他必要的反制措施。</span>\n",
      "\n",
      "<span style=\"font-family:黑体;font-size:16pt;\">第十四条</span> <span style=\"font-size:16pt;\">任何组织和个人不执行、不配合实施反制措施的，依法追究法律责任。</span>\n",
      "\n",
      "<span style=\"font-family:黑体;font-size:16pt;\">第十五条</span> <span style=\"font-size:16pt;\">对于外国国家、组织或者个人实施、协助、支持危害我国主权、安全、发展利益的行为，需要采取必要反制措施的，参照本法有关规定执行。</span>\n",
      "\n",
      "<span style=\"font-family:黑体;font-size:16pt;\">第十六条</span> <span style=\"font-size:16pt;\">本法自公布之日起施行。</span>\n",
      "\n",
      "\n",
      "</div>\n",
      "\n"
     ]
    }
   ],
   "source": [
    "law = {\n",
    "    \"title\": \"中华人民共和国反外国制裁法\",\n",
    "    \"links\": {\n",
    "      \"HTML\": \"https://wb.flk.npc.gov.cn/flfg/texthtml/d18e5e007d664054bd83796841328d92.html\",\n",
    "      \"PDF\": \"https://wb.flk.npc.gov.cn/flfg/PDF/05c7bd71147d4e28938ffd34416d7773.pdf\"\n",
    "    },\n",
    "}\n",
    "md = get_markdown(law)\n",
    "print(md)"
   ]
  },
  {
   "cell_type": "code",
   "execution_count": null,
   "metadata": {},
   "outputs": [],
   "source": []
  },
  {
   "cell_type": "code",
   "execution_count": null,
   "metadata": {},
   "outputs": [],
   "source": []
  }
 ],
 "metadata": {
  "kernelspec": {
   "display_name": "law",
   "language": "python",
   "name": "python3"
  },
  "language_info": {
   "codemirror_mode": {
    "name": "ipython",
    "version": 3
   },
   "file_extension": ".py",
   "mimetype": "text/x-python",
   "name": "python",
   "nbconvert_exporter": "python",
   "pygments_lexer": "ipython3",
   "version": "3.10.12"
  },
  "orig_nbformat": 4
 },
 "nbformat": 4,
 "nbformat_minor": 2
}
